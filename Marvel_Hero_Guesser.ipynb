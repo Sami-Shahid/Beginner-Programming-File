{
  "nbformat": 4,
  "nbformat_minor": 0,
  "metadata": {
    "colab": {
      "name": "Marvel Hero Guesser",
      "provenance": [],
      "include_colab_link": true
    },
    "kernelspec": {
      "name": "python3",
      "display_name": "Python 3"
    },
    "language_info": {
      "name": "python"
    }
  },
  "cells": [
    {
      "cell_type": "markdown",
      "metadata": {
        "id": "view-in-github",
        "colab_type": "text"
      },
      "source": [
        "<a href=\"https://colab.research.google.com/github/Sami-Shahid/Online-Programmer-File/blob/main/Marvel_Hero_Guesser.ipynb\" target=\"_parent\"><img src=\"https://colab.research.google.com/assets/colab-badge.svg\" alt=\"Open In Colab\"/></a>"
      ]
    },
    {
      "cell_type": "markdown",
      "metadata": {
        "id": "EO6WtZL8WlNq"
      },
      "source": [
        "#**Marvel Hero Guesser**\n",
        "###By Sami Shahid\n",
        "---\n",
        "\n",
        "\n",
        "###**Problem Statment:**\n",
        "#####Using trees, create a program that can predict a Marvel hero based off a few questions a user can answer.\n",
        "\n",
        "###**Expected Final Output:**\n",
        "#####If the user answers all the problems correctly and those traits match a hero then the output should look like this:\n",
        "\"User your hero is Iron Man!\"\n",
        "\n",
        "###**Logic used to solve the problem:**\n",
        "Using a tree I will store all the heroes and which answers lead to them. The key is the location in the tree that the hero is in and the value is the hero's name. Using input I get all of the user's inputs from all the question's the program asks them. I string concatenate(basically means I am adding all of the strings and turning them into one string) all of the user's input and put them into one variable which is the location in the tree of where the hero is.  I use an if statement to make sure that the users' inputs are all in a list that has only valid answers in it. If one of the inputs is invalid the program print a message and ends. If the answers are valid the program also makes sure that the location of the tree that the users' inputs lead to leads you to a hero by using the in function in the original hero dictionary. If it doesn't then the program tells the user to try and guess another hero. If the location of the tree leads to a hero then the program will finally print the user's hero by taking the final string of all their inputs and using that string to lead them to the location in the tree of where the hero is.\n",
        "###**Future Modifications**\n",
        "##### In the future, I would like to add more hero's to my program as currently, it is very limited with the number of heroes available. I would like the final statement to also show an image of that hero. In addition, I would show a model of a tree of where all the questions lead to the final hero.\n",
        "\n",
        "---\n",
        "#**Where you can find me**\n",
        "##You can go to my GitHub and see my other projects.\n",
        "###GitHub - https://github.com/Sami-Shahid\n",
        "####README - https://github.com/Sami-Shahid/README"
      ]
    },
    {
      "cell_type": "code",
      "metadata": {
        "id": "1qJUBJwLSj0Q",
        "colab": {
          "base_uri": "https://localhost:8080/"
        },
        "outputId": "9fcf11d6-f004-428e-cbe6-bde0497383c1"
      },
      "source": [
        "\n",
        "#Introduction\n",
        "print(\"Welcome to Marvel Hero Guesser!\")\n",
        "name = input(\"What is your name? \\n\" )\n",
        "ans = input(\"Type Y whenever you are ready to play %s! \\n\" %name)\n",
        "\n",
        "#Lists\n",
        "search = [\"A\", \"B\"]\n",
        "\n",
        "#Main hero dictionary\n",
        "Heroes = {\"AAABB\":\"Captain America\",\n",
        "         \"AAABA\":\"Iron Man\",\n",
        "         \"AABAA\":\"Thor\",\n",
        "         \"AABAB\":\"Hulk\",\n",
        "         \"BAABB\":\"Black Widow\",\n",
        "         \"ABAAB\":\"Black Panther\",\n",
        "         \"ABABA\":\"War Machine\",\n",
        "         \"ABBAA\":\"Vision\",\n",
        "         \"BBAAA\":\"Scarlet Witch\",\n",
        "         \"ABBBA\":\"Falcon\",\n",
        "         \"ABAAB\":\"Spider Man\",\n",
        "         \"AAAAB\":\"Ant Man\",\n",
        "         \"ABABB\":\"Winter Soldier\",\n",
        "         \"ABBBB\":\"Hawkeye\",\n",
        "         \"ABAAA\":\"Doctor Strange\",\n",
        "         \"BBAAA\":\"Captain Marvel\"\n",
        "         }\n",
        "         \n",
        "if ans.upper() == \"Y\":\n",
        "  #Asking users all the questions \n",
        "  quest1 = input(\"What Gender is your hero?(Choose A. or B.) \\n A. Male \\n B. Female \\n\")\n",
        "  quest2 = input(\"Is your hero part of the original 6 Avengers?(Choose A. or B.) \\n A. Yes \\n B. No \\n\")\n",
        "  quest3 = input(\"Does your hero's name have 2 words?(Choose A. or B.) \\n A. Yes \\n B. No \\n\")\n",
        "  quest4 = input(\"Does your hero have superpowers?(Choose A. or B.) \\n A. Yes \\n B. No \\n\")\n",
        "  quest5 = input(\"Can your hero fly?(Choose A. or B.) \\n A. Yes \\n B. No \\n\")\n",
        "\n",
        "  #Getting all of users input turning them into a single element\n",
        "  choice = quest1 + quest2 + quest3 + quest4+ quest5\n",
        "\n",
        "  #Checking if all of users inputs were valid\n",
        "  if quest1 in search and quest2 in search and quest3 and quest4 and quest5 in search:\n",
        "    print(\"All your inputs are valid!\")\n",
        "\n",
        "    q = input(\"Are you ready for me to reveal your hero %s? Y/N \\n \" %name)\n",
        "    if q.upper() == \"Y\":\n",
        "\n",
        "      #Checking if users inputs match with key in hero dictionary\n",
        "      if choice.upper() in Heroes.keys():\n",
        "\n",
        "        #Printing users hero by getting users input and searching for that key in the dictionary\n",
        "        print(name, \"your hero is %s!\" % Heroes[choice.upper()])\n",
        "        print(\"Thanks for playing!\")\n",
        "      else:\n",
        "        print(\"Sorry, I can't guess the hero that you are describing, \\n maybe try another hero \")\n",
        "\n",
        "    else: print(\"Alright you can play again with me anytime!\")\n",
        "\n",
        "  else:\n",
        "    print(\"One of your inputs are invalid, \\n please try again!\")\n",
        "    \n",
        "\n",
        "  \n",
        "\n",
        "else:\n",
        "  print(\"If you want to play again I will always be here %s!\" %name)"
      ],
      "execution_count": null,
      "outputs": [
        {
          "output_type": "stream",
          "name": "stdout",
          "text": [
            "Welcome to Marvel Hero Guesser!\n",
            "What is your name? \n",
            "User\n",
            "Type Y whenever you are ready to play User! \n",
            "Y\n",
            "What Gender is your hero?(Choose A. or B.) \n",
            " A. Male \n",
            " B. Female \n",
            "A\n",
            "Is your hero part of the original 6 Avengers?(Choose A. or B.) \n",
            " A. Yes \n",
            " B. No \n",
            "B\n",
            "Does your hero's name have 2 words?(Choose A. or B.) \n",
            " A. Yes \n",
            " B. No \n",
            "A\n",
            "Does your hero have superpowers?(Choose A. or B.) \n",
            " A. Yes \n",
            " B. No \n",
            "A\n",
            "Can your hero fly?(Choose A. or B.) \n",
            " A. Yes \n",
            " B. No \n",
            "B\n",
            "All your inputs are valid!\n",
            "Are you ready for me to reveal your hero User? Y/N \n",
            " Y\n",
            "User your hero is Spider Man!\n",
            "Thanks for playing!\n"
          ]
        }
      ]
    }
  ]
}